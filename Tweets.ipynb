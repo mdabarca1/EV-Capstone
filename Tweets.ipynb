{
 "cells": [
  {
   "cell_type": "markdown",
   "metadata": {},
   "source": [
    "# Evaluación de Diagnóstico GIT"
   ]
  },
  {
   "cell_type": "markdown",
   "metadata": {},
   "source": [
    "## Preguntas\n",
    "1. Los top 10 tweets más retweeted.\n",
    "2. Los top 10 usuarios en función a la cantidad de tweets que emitieron.\n",
    "3. Los top 10 días donde hay más tweets.\n",
    "4. Top 10 hashtags más usados."
   ]
  },
  {
   "cell_type": "code",
   "execution_count": null,
   "metadata": {},
   "outputs": [],
   "source": [
    "import pandas as pd\n",
    "import numpy as np\n",
    "import json\n",
    "import os"
   ]
  },
  {
   "cell_type": "code",
   "execution_count": 2,
   "metadata": {},
   "outputs": [],
   "source": [
    "def pregunta1(data, df):\n",
    "    ordenados = df.sort_values(\"retweetCount\", ascending=False)\n",
    "    print(ordenados[0:10])"
   ]
  },
  {
   "cell_type": "code",
   "execution_count": 3,
   "metadata": {},
   "outputs": [],
   "source": [
    "def pregunta2(data, df):\n",
    "    usernames = []\n",
    "    for tweet in data:\n",
    "        usernames.append(tweet[\"user\"][\"username\"])\n",
    "    \n",
    "    df_users = pd.DataFrame(usernames, columns= [\"Username\"])\n",
    "    df_usernames = df_users[\"Tweets\"] = \"1\"\n",
    "    \n",
    "    top_users = df_users.groupby(\"Username\").count().sort_values(\"Tweets\", ascending=False)\n",
    "    print(top_users[0:10])"
   ]
  },
  {
   "cell_type": "code",
   "execution_count": 4,
   "metadata": {},
   "outputs": [],
   "source": [
    "def pregunta3(data, df):\n",
    "    tweets_por_dia = df.groupby(\"date\").count()\n",
    "    top_dias = tweets_por_dia.sort_values(\"user\", ascending=False)\n",
    "    top = top_dias.iloc[0:10,4]\n",
    "    print(top)\n",
    "    "
   ]
  },
  {
   "cell_type": "code",
   "execution_count": 9,
   "metadata": {},
   "outputs": [],
   "source": [
    "def Main(ruta, pregunta):\n",
    "    data = [json.loads(line) for line in open(ruta, \"r\")]\n",
    "    df = pd.DataFrame(data)\n",
    "\n",
    "    if pregunta == 1:\n",
    "        pregunta1(data, df)\n",
    "    if pregunta == 2:\n",
    "        pregunta2(data, df)\n",
    "    if pregunta == 3:\n",
    "        pregunta3(data, df)\n",
    "    if pregunta == 4:\n",
    "        print(\"No la pude hacer :(\")\n",
    "    "
   ]
  },
  {
   "cell_type": "code",
   "execution_count": 6,
   "metadata": {},
   "outputs": [
    {
     "name": "stdout",
     "output_type": "stream",
     "text": [
      "                                                      url  \\\n",
      "408128  https://twitter.com/rihanna/status/13566258896...   \n",
      "395142  https://twitter.com/GretaThunberg/status/13566...   \n",
      "266196  https://twitter.com/GretaThunberg/status/13572...   \n",
      "366579  https://twitter.com/miakhalifa/status/13568483...   \n",
      "372793  https://twitter.com/miakhalifa/status/13568277...   \n",
      "314192  https://twitter.com/TeamJuJu/status/1357048037...   \n",
      "215034  https://twitter.com/BobBlackman/status/1357755...   \n",
      "398011  https://twitter.com/vanessa_vash/status/135668...   \n",
      "325261  https://twitter.com/kylekuzma/status/135700972...   \n",
      "163689  https://twitter.com/AmandaCerny/status/1359013...   \n",
      "\n",
      "                             date  \\\n",
      "408128  2021-02-02T15:29:51+00:00   \n",
      "395142  2021-02-02T20:04:01+00:00   \n",
      "266196  2021-02-04T10:59:01+00:00   \n",
      "366579  2021-02-03T06:14:01+00:00   \n",
      "372793  2021-02-03T04:51:48+00:00   \n",
      "314192  2021-02-03T19:27:19+00:00   \n",
      "215034  2021-02-05T18:19:19+00:00   \n",
      "398011  2021-02-02T19:09:23+00:00   \n",
      "325261  2021-02-03T16:55:04+00:00   \n",
      "163689  2021-02-09T05:36:49+00:00   \n",
      "\n",
      "                                                  content  \\\n",
      "408128  why aren’t we talking about this?! #FarmersPro...   \n",
      "395142  We stand in solidarity with the #FarmersProtes...   \n",
      "266196  I still #StandWithFarmers and support their pe...   \n",
      "366579  “Paid actors,” huh? Quite the casting director...   \n",
      "372793  What in the human rights violations is going o...   \n",
      "314192  Happy to share that I’ve donated $10,000 to pr...   \n",
      "215034  There has been much social media coverage arou...   \n",
      "398011  Farmers feed the world. Fight for them. Protec...   \n",
      "325261  Should be talking about this! #FarmersProtest\\...   \n",
      "163689  To all of my influencer/celeb friends- read up...   \n",
      "\n",
      "                                          renderedContent  \\\n",
      "408128  why aren’t we talking about this?! #FarmersPro...   \n",
      "395142  We stand in solidarity with the #FarmersProtes...   \n",
      "266196  I still #StandWithFarmers and support their pe...   \n",
      "366579  “Paid actors,” huh? Quite the casting director...   \n",
      "372793  What in the human rights violations is going o...   \n",
      "314192  Happy to share that I’ve donated $10,000 to pr...   \n",
      "215034  There has been much social media coverage arou...   \n",
      "398011  Farmers feed the world. Fight for them. Protec...   \n",
      "325261  Should be talking about this! #FarmersProtest\\...   \n",
      "163689  To all of my influencer/celeb friends- read up...   \n",
      "\n",
      "                         id  \\\n",
      "408128  1356625889602199552   \n",
      "395142  1356694884615340037   \n",
      "266196  1357282507616645122   \n",
      "366579  1356848397899112448   \n",
      "372793  1356827705161879553   \n",
      "314192  1357048037302960129   \n",
      "215034  1357755699162398720   \n",
      "398011  1356681136655769605   \n",
      "325261  1357009721090138112   \n",
      "163689  1359013362881994752   \n",
      "\n",
      "                                                     user  \\\n",
      "408128  {'username': 'rihanna', 'displayname': 'Rihann...   \n",
      "395142  {'username': 'GretaThunberg', 'displayname': '...   \n",
      "266196  {'username': 'GretaThunberg', 'displayname': '...   \n",
      "366579  {'username': 'miakhalifa', 'displayname': 'Mia...   \n",
      "372793  {'username': 'miakhalifa', 'displayname': 'Mia...   \n",
      "314192  {'username': 'TeamJuJu', 'displayname': 'JuJu ...   \n",
      "215034  {'username': 'BobBlackman', 'displayname': 'Bo...   \n",
      "398011  {'username': 'vanessa_vash', 'displayname': 'V...   \n",
      "325261  {'username': 'kylekuzma', 'displayname': 'kuz'...   \n",
      "163689  {'username': 'AmandaCerny', 'displayname': 'Am...   \n",
      "\n",
      "                                                 outlinks  \\\n",
      "408128  [https://www.cnn.com/2021/02/01/asia/india-int...   \n",
      "395142  [https://www.cnn.com/2021/02/01/asia/india-int...   \n",
      "266196                                                 []   \n",
      "366579                                                 []   \n",
      "372793                                                 []   \n",
      "314192  [https://www.usnews.com/news/world/articles/20...   \n",
      "215034                                                 []   \n",
      "398011                                                 []   \n",
      "325261  [https://www.cnn.com/2021/02/01/asia/india-int...   \n",
      "163689                                                 []   \n",
      "\n",
      "                      tcooutlinks  replyCount  retweetCount  ...  quoteCount  \\\n",
      "408128  [https://t.co/obmIlXhK9S]      163065        315547  ...       45832   \n",
      "395142  [https://t.co/tqvR0oHgo0]       49793        103957  ...       13815   \n",
      "266196                         []       39596         67694  ...       10587   \n",
      "366579                         []       15569         35921  ...        5681   \n",
      "372793                         []        9082         26972  ...        4606   \n",
      "314192  [https://t.co/0WoEw0l3ij]        7683         23251  ...        4082   \n",
      "215034                         []        1845         20132  ...        1592   \n",
      "398011                         []        1301         18744  ...         820   \n",
      "325261  [https://t.co/Xh09iTvVoF]        4167         17368  ...        2505   \n",
      "163689                         []        2028         15677  ...         813   \n",
      "\n",
      "             conversationId  lang  \\\n",
      "408128  1356625889602199552    en   \n",
      "395142  1356694884615340037    en   \n",
      "266196  1357282507616645122    en   \n",
      "366579  1356848397899112448    en   \n",
      "372793  1356827705161879553    en   \n",
      "314192  1357048037302960129    en   \n",
      "215034  1357755699162398720    en   \n",
      "398011  1356681136655769605    en   \n",
      "325261  1357009721090138112    en   \n",
      "163689  1359013362881994752    en   \n",
      "\n",
      "                                                   source  \\\n",
      "408128  <a href=\"http://twitter.com/download/iphone\" r...   \n",
      "395142  <a href=\"http://twitter.com/download/iphone\" r...   \n",
      "266196  <a href=\"http://twitter.com/download/iphone\" r...   \n",
      "366579  <a href=\"http://twitter.com/download/iphone\" r...   \n",
      "372793  <a href=\"http://twitter.com/download/iphone\" r...   \n",
      "314192  <a href=\"http://twitter.com/download/iphone\" r...   \n",
      "215034  <a href=\"https://mobile.twitter.com\" rel=\"nofo...   \n",
      "398011  <a href=\"http://twitter.com/download/android\" ...   \n",
      "325261  <a href=\"http://twitter.com/download/iphone\" r...   \n",
      "163689  <a href=\"http://twitter.com/download/iphone\" r...   \n",
      "\n",
      "                                  sourceUrl          sourceLabel  \\\n",
      "408128   http://twitter.com/download/iphone   Twitter for iPhone   \n",
      "395142   http://twitter.com/download/iphone   Twitter for iPhone   \n",
      "266196   http://twitter.com/download/iphone   Twitter for iPhone   \n",
      "366579   http://twitter.com/download/iphone   Twitter for iPhone   \n",
      "372793   http://twitter.com/download/iphone   Twitter for iPhone   \n",
      "314192   http://twitter.com/download/iphone   Twitter for iPhone   \n",
      "215034           https://mobile.twitter.com      Twitter Web App   \n",
      "398011  http://twitter.com/download/android  Twitter for Android   \n",
      "325261   http://twitter.com/download/iphone   Twitter for iPhone   \n",
      "163689   http://twitter.com/download/iphone   Twitter for iPhone   \n",
      "\n",
      "                                                    media retweetedTweet  \\\n",
      "408128                                               None           None   \n",
      "395142                                               None           None   \n",
      "266196                                               None           None   \n",
      "366579  [{'previewUrl': 'https://pbs.twimg.com/media/E...           None   \n",
      "372793  [{'previewUrl': 'https://pbs.twimg.com/media/E...           None   \n",
      "314192                                               None           None   \n",
      "215034  [{'previewUrl': 'https://pbs.twimg.com/media/E...           None   \n",
      "398011                                               None           None   \n",
      "325261                                               None           None   \n",
      "163689                                               None           None   \n",
      "\n",
      "       quotedTweet mentionedUsers  \n",
      "408128        None           None  \n",
      "395142        None           None  \n",
      "266196        None           None  \n",
      "366579        None           None  \n",
      "372793        None           None  \n",
      "314192        None           None  \n",
      "215034        None           None  \n",
      "398011        None           None  \n",
      "325261        None           None  \n",
      "163689        None           None  \n",
      "\n",
      "[10 rows x 21 columns]\n",
      "Esa pregunta no existe\n"
     ]
    }
   ],
   "source": [
    "Main(\"tweets.json\", 1)"
   ]
  },
  {
   "cell_type": "code",
   "execution_count": 7,
   "metadata": {},
   "outputs": [
    {
     "name": "stdout",
     "output_type": "stream",
     "text": [
      "                 Tweets\n",
      "Username               \n",
      "harjot_tweeting    7134\n",
      "tasveersandhu      2091\n",
      "shells_n_petals    1991\n",
      "jot__b             1841\n",
      "rebelpacifist      1806\n",
      "rumsomal           1722\n",
      "Iamjazzie96        1502\n",
      "Jass_k_G           1460\n",
      "DigitalKisanBot    1453\n",
      "z_khalique007      1446\n",
      "Esa pregunta no existe\n"
     ]
    }
   ],
   "source": [
    "Main(\"tweets.json\", 2)"
   ]
  },
  {
   "cell_type": "code",
   "execution_count": 8,
   "metadata": {},
   "outputs": [
    {
     "name": "stdout",
     "output_type": "stream",
     "text": [
      "date\n",
      "2021-02-01T22:48:17+00:00    19\n",
      "2021-02-03T20:12:09+00:00     8\n",
      "2021-02-03T18:42:09+00:00     8\n",
      "2021-02-02T07:21:31+00:00     7\n",
      "2021-02-03T07:21:46+00:00     7\n",
      "2021-02-04T04:25:44+00:00     7\n",
      "2021-02-03T11:03:44+00:00     7\n",
      "2021-02-03T09:55:29+00:00     7\n",
      "2021-02-04T05:23:54+00:00     7\n",
      "2021-02-03T10:07:16+00:00     7\n",
      "Name: user, dtype: int64\n",
      "Esa pregunta no existe\n"
     ]
    }
   ],
   "source": [
    "Main(\"tweets.json\", 3)"
   ]
  }
 ],
 "metadata": {
  "interpreter": {
   "hash": "7b7b5da59f7d713e5b7ea54e59e3b7469317fc51d378f51ce759d08879f7b7a8"
  },
  "kernelspec": {
   "display_name": "Python 3.7.9 64-bit",
   "language": "python",
   "name": "python3"
  },
  "language_info": {
   "codemirror_mode": {
    "name": "ipython",
    "version": 3
   },
   "file_extension": ".py",
   "mimetype": "text/x-python",
   "name": "python",
   "nbconvert_exporter": "python",
   "pygments_lexer": "ipython3",
   "version": "3.7.9"
  },
  "orig_nbformat": 4
 },
 "nbformat": 4,
 "nbformat_minor": 2
}
